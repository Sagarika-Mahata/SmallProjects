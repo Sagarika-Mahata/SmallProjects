{
 "cells": [
  {
   "cell_type": "code",
   "execution_count": 1,
   "metadata": {
    "executionInfo": {
     "elapsed": 5,
     "status": "ok",
     "timestamp": 1716720245727,
     "user": {
      "displayName": "Aditya Barik",
      "userId": "12620606418240704179"
     },
     "user_tz": -330
    },
    "id": "k3whG9MII8_t"
   },
   "outputs": [
    {
     "name": "stdout",
     "output_type": "stream",
     "text": [
      "Collecting imblearn\n",
      "  Downloading imblearn-0.0-py2.py3-none-any.whl (1.9 kB)\n",
      "Collecting imbalanced-learn\n",
      "  Downloading imbalanced_learn-0.12.2-py3-none-any.whl (257 kB)\n",
      "Requirement already satisfied: numpy>=1.17.3 in c:\\users\\happy\\anaconda3\\lib\\site-packages (from imbalanced-learn->imblearn) (1.21.5)\n",
      "Requirement already satisfied: scikit-learn>=1.0.2 in c:\\users\\happy\\anaconda3\\lib\\site-packages (from imbalanced-learn->imblearn) (1.0.2)\n",
      "Requirement already satisfied: scipy>=1.5.0 in c:\\users\\happy\\anaconda3\\lib\\site-packages (from imbalanced-learn->imblearn) (1.7.3)\n",
      "Requirement already satisfied: threadpoolctl>=2.0.0 in c:\\users\\happy\\anaconda3\\lib\\site-packages (from imbalanced-learn->imblearn) (2.2.0)\n",
      "Collecting joblib>=1.1.1\n",
      "  Downloading joblib-1.4.2-py3-none-any.whl (301 kB)\n",
      "Installing collected packages: joblib, imbalanced-learn, imblearn\n",
      "  Attempting uninstall: joblib\n",
      "    Found existing installation: joblib 1.1.0\n",
      "    Uninstalling joblib-1.1.0:\n",
      "      Successfully uninstalled joblib-1.1.0\n",
      "Successfully installed imbalanced-learn-0.12.2 imblearn-0.0 joblib-1.4.2\n"
     ]
    }
   ],
   "source": [
    "# !pip install imblearn"
   ]
  },
  {
   "cell_type": "code",
   "execution_count": 2,
   "metadata": {
    "_cell_guid": "b1076dfc-b9ad-4769-8c92-a6c4dae69d19",
    "_uuid": "8f2839f25d086af736a60e9eeb907d3b93b6e0e5",
    "execution": {
     "iopub.execute_input": "2024-05-25T09:20:03.157574Z",
     "iopub.status.busy": "2024-05-25T09:20:03.157179Z"
    },
    "executionInfo": {
     "elapsed": 3188,
     "status": "ok",
     "timestamp": 1716720248911,
     "user": {
      "displayName": "Aditya Barik",
      "userId": "12620606418240704179"
     },
     "user_tz": -330
    },
    "id": "gDBQIP3UHYAl"
   },
   "outputs": [],
   "source": [
    "from collections import Counter\n",
    "\n",
    "from imblearn.under_sampling import RandomUnderSampler\n",
    "from imblearn.over_sampling import RandomOverSampler\n",
    "import matplotlib.pyplot as plt\n",
    "import numpy as np\n",
    "import pandas as pd\n",
    "import seaborn as sns\n",
    "from sklearn.ensemble import RandomForestClassifier\n",
    "from sklearn.linear_model import LogisticRegression\n",
    "from sklearn.metrics import (\n",
    "    confusion_matrix,\n",
    "    accuracy_score,\n",
    "    precision_score,\n",
    "    recall_score,\n",
    "    f1_score,\n",
    "    roc_auc_score,\n",
    "    roc_curve,\n",
    "    classification_report,\n",
    "    auc\n",
    ")\n",
    "from sklearn.model_selection import train_test_split\n",
    "from sklearn.preprocessing import StandardScaler\n",
    "from sklearn.tree import DecisionTreeClassifier\n",
    "\n",
    "import warnings\n",
    "warnings.filterwarnings(\"ignore\")"
   ]
  },
  {
   "cell_type": "markdown",
   "metadata": {
    "id": "gNQUPPtSLTuM"
   },
   "source": [
    "# Data Loading"
   ]
  },
  {
   "cell_type": "code",
   "execution_count": 3,
   "metadata": {
    "executionInfo": {
     "elapsed": 17,
     "status": "ok",
     "timestamp": 1716720248913,
     "user": {
      "displayName": "Aditya Barik",
      "userId": "12620606418240704179"
     },
     "user_tz": -330
    },
    "id": "etpvrmRAHYAr"
   },
   "outputs": [],
   "source": [
    "df = pd.read_csv(r\"C:\\Users\\happy\\Downloads\\dataset\\creditcarddata.csv\")"
   ]
  },
  {
   "cell_type": "markdown",
   "metadata": {
    "id": "6xtQg9j1LaJd"
   },
   "source": [
    "# Data Overview"
   ]
  },
  {
   "cell_type": "code",
   "execution_count": 4,
   "metadata": {
    "colab": {
     "base_uri": "https://localhost:8080/",
     "height": 347
    },
    "executionInfo": {
     "elapsed": 17,
     "status": "ok",
     "timestamp": 1716720248913,
     "user": {
      "displayName": "Aditya Barik",
      "userId": "12620606418240704179"
     },
     "user_tz": -330
    },
    "id": "P3hy6iofKeLS",
    "outputId": "4cb4df9d-c48b-4316-c1f0-3c9318e2fc32"
   },
   "outputs": [
    {
     "data": {
      "text/html": [
       "<div>\n",
       "<style scoped>\n",
       "    .dataframe tbody tr th:only-of-type {\n",
       "        vertical-align: middle;\n",
       "    }\n",
       "\n",
       "    .dataframe tbody tr th {\n",
       "        vertical-align: top;\n",
       "    }\n",
       "\n",
       "    .dataframe thead th {\n",
       "        text-align: right;\n",
       "    }\n",
       "</style>\n",
       "<table border=\"1\" class=\"dataframe\">\n",
       "  <thead>\n",
       "    <tr style=\"text-align: right;\">\n",
       "      <th></th>\n",
       "      <th>ID</th>\n",
       "      <th>Gender</th>\n",
       "      <th>Own_car</th>\n",
       "      <th>Own_property</th>\n",
       "      <th>Work_phone</th>\n",
       "      <th>Phone</th>\n",
       "      <th>Email</th>\n",
       "      <th>Unemployed</th>\n",
       "      <th>Num_children</th>\n",
       "      <th>Num_family</th>\n",
       "      <th>Account_length</th>\n",
       "      <th>Total_income</th>\n",
       "      <th>Age</th>\n",
       "      <th>Years_employed</th>\n",
       "      <th>Income_type</th>\n",
       "      <th>Education_type</th>\n",
       "      <th>Family_status</th>\n",
       "      <th>Housing_type</th>\n",
       "      <th>Occupation_type</th>\n",
       "      <th>Target</th>\n",
       "    </tr>\n",
       "  </thead>\n",
       "  <tbody>\n",
       "    <tr>\n",
       "      <th>0</th>\n",
       "      <td>5008804</td>\n",
       "      <td>1</td>\n",
       "      <td>1</td>\n",
       "      <td>1</td>\n",
       "      <td>1</td>\n",
       "      <td>0</td>\n",
       "      <td>0</td>\n",
       "      <td>0</td>\n",
       "      <td>0</td>\n",
       "      <td>2</td>\n",
       "      <td>15</td>\n",
       "      <td>427500.0</td>\n",
       "      <td>32.868574</td>\n",
       "      <td>12.435574</td>\n",
       "      <td>Working</td>\n",
       "      <td>Higher education</td>\n",
       "      <td>Civil marriage</td>\n",
       "      <td>Rented apartment</td>\n",
       "      <td>Other</td>\n",
       "      <td>1</td>\n",
       "    </tr>\n",
       "    <tr>\n",
       "      <th>1</th>\n",
       "      <td>5008806</td>\n",
       "      <td>1</td>\n",
       "      <td>1</td>\n",
       "      <td>1</td>\n",
       "      <td>0</td>\n",
       "      <td>0</td>\n",
       "      <td>0</td>\n",
       "      <td>0</td>\n",
       "      <td>0</td>\n",
       "      <td>2</td>\n",
       "      <td>29</td>\n",
       "      <td>112500.0</td>\n",
       "      <td>58.793815</td>\n",
       "      <td>3.104787</td>\n",
       "      <td>Working</td>\n",
       "      <td>Secondary / secondary special</td>\n",
       "      <td>Married</td>\n",
       "      <td>House / apartment</td>\n",
       "      <td>Security staff</td>\n",
       "      <td>0</td>\n",
       "    </tr>\n",
       "    <tr>\n",
       "      <th>2</th>\n",
       "      <td>5008808</td>\n",
       "      <td>0</td>\n",
       "      <td>0</td>\n",
       "      <td>1</td>\n",
       "      <td>0</td>\n",
       "      <td>1</td>\n",
       "      <td>1</td>\n",
       "      <td>0</td>\n",
       "      <td>0</td>\n",
       "      <td>1</td>\n",
       "      <td>4</td>\n",
       "      <td>270000.0</td>\n",
       "      <td>52.321403</td>\n",
       "      <td>8.353354</td>\n",
       "      <td>Commercial associate</td>\n",
       "      <td>Secondary / secondary special</td>\n",
       "      <td>Single / not married</td>\n",
       "      <td>House / apartment</td>\n",
       "      <td>Sales staff</td>\n",
       "      <td>0</td>\n",
       "    </tr>\n",
       "    <tr>\n",
       "      <th>3</th>\n",
       "      <td>5008812</td>\n",
       "      <td>0</td>\n",
       "      <td>0</td>\n",
       "      <td>1</td>\n",
       "      <td>0</td>\n",
       "      <td>0</td>\n",
       "      <td>0</td>\n",
       "      <td>1</td>\n",
       "      <td>0</td>\n",
       "      <td>1</td>\n",
       "      <td>20</td>\n",
       "      <td>283500.0</td>\n",
       "      <td>61.504343</td>\n",
       "      <td>0.000000</td>\n",
       "      <td>Pensioner</td>\n",
       "      <td>Higher education</td>\n",
       "      <td>Separated</td>\n",
       "      <td>House / apartment</td>\n",
       "      <td>Other</td>\n",
       "      <td>0</td>\n",
       "    </tr>\n",
       "    <tr>\n",
       "      <th>4</th>\n",
       "      <td>5008815</td>\n",
       "      <td>1</td>\n",
       "      <td>1</td>\n",
       "      <td>1</td>\n",
       "      <td>1</td>\n",
       "      <td>1</td>\n",
       "      <td>1</td>\n",
       "      <td>0</td>\n",
       "      <td>0</td>\n",
       "      <td>2</td>\n",
       "      <td>5</td>\n",
       "      <td>270000.0</td>\n",
       "      <td>46.193967</td>\n",
       "      <td>2.105450</td>\n",
       "      <td>Working</td>\n",
       "      <td>Higher education</td>\n",
       "      <td>Married</td>\n",
       "      <td>House / apartment</td>\n",
       "      <td>Accountants</td>\n",
       "      <td>0</td>\n",
       "    </tr>\n",
       "  </tbody>\n",
       "</table>\n",
       "</div>"
      ],
      "text/plain": [
       "        ID  Gender  Own_car  Own_property  Work_phone  Phone  Email  \\\n",
       "0  5008804       1        1             1           1      0      0   \n",
       "1  5008806       1        1             1           0      0      0   \n",
       "2  5008808       0        0             1           0      1      1   \n",
       "3  5008812       0        0             1           0      0      0   \n",
       "4  5008815       1        1             1           1      1      1   \n",
       "\n",
       "   Unemployed  Num_children  Num_family  Account_length  Total_income  \\\n",
       "0           0             0           2              15      427500.0   \n",
       "1           0             0           2              29      112500.0   \n",
       "2           0             0           1               4      270000.0   \n",
       "3           1             0           1              20      283500.0   \n",
       "4           0             0           2               5      270000.0   \n",
       "\n",
       "         Age  Years_employed           Income_type  \\\n",
       "0  32.868574       12.435574               Working   \n",
       "1  58.793815        3.104787               Working   \n",
       "2  52.321403        8.353354  Commercial associate   \n",
       "3  61.504343        0.000000             Pensioner   \n",
       "4  46.193967        2.105450               Working   \n",
       "\n",
       "                  Education_type         Family_status       Housing_type  \\\n",
       "0               Higher education        Civil marriage   Rented apartment   \n",
       "1  Secondary / secondary special               Married  House / apartment   \n",
       "2  Secondary / secondary special  Single / not married  House / apartment   \n",
       "3               Higher education             Separated  House / apartment   \n",
       "4               Higher education               Married  House / apartment   \n",
       "\n",
       "  Occupation_type  Target  \n",
       "0           Other       1  \n",
       "1  Security staff       0  \n",
       "2     Sales staff       0  \n",
       "3           Other       0  \n",
       "4     Accountants       0  "
      ]
     },
     "execution_count": 4,
     "metadata": {},
     "output_type": "execute_result"
    }
   ],
   "source": [
    "df.head()"
   ]
  },
  {
   "cell_type": "code",
   "execution_count": 5,
   "metadata": {
    "colab": {
     "base_uri": "https://localhost:8080/"
    },
    "executionInfo": {
     "elapsed": 16,
     "status": "ok",
     "timestamp": 1716720248913,
     "user": {
      "displayName": "Aditya Barik",
      "userId": "12620606418240704179"
     },
     "user_tz": -330
    },
    "id": "LjKHXpPTHYAs",
    "outputId": "5ae6563c-1e8e-49b3-cce8-fafb559b5c9a"
   },
   "outputs": [
    {
     "data": {
      "text/plain": [
       "(9709, 20)"
      ]
     },
     "execution_count": 5,
     "metadata": {},
     "output_type": "execute_result"
    }
   ],
   "source": [
    "df.shape"
   ]
  },
  {
   "cell_type": "markdown",
   "metadata": {
    "id": "FfcJEjN1LeIF"
   },
   "source": [
    "> There are $9709$ rows and $20$ columns in the data."
   ]
  },
  {
   "cell_type": "code",
   "execution_count": 6,
   "metadata": {
    "colab": {
     "base_uri": "https://localhost:8080/"
    },
    "executionInfo": {
     "elapsed": 14,
     "status": "ok",
     "timestamp": 1716720248913,
     "user": {
      "displayName": "Aditya Barik",
      "userId": "12620606418240704179"
     },
     "user_tz": -330
    },
    "id": "njTH8yj7HYAt",
    "outputId": "68aed818-94e3-4b7d-85a5-9ab3dcfd9bf7"
   },
   "outputs": [
    {
     "name": "stdout",
     "output_type": "stream",
     "text": [
      "<class 'pandas.core.frame.DataFrame'>\n",
      "RangeIndex: 9709 entries, 0 to 9708\n",
      "Data columns (total 20 columns):\n",
      " #   Column           Non-Null Count  Dtype  \n",
      "---  ------           --------------  -----  \n",
      " 0   ID               9709 non-null   int64  \n",
      " 1   Gender           9709 non-null   int64  \n",
      " 2   Own_car          9709 non-null   int64  \n",
      " 3   Own_property     9709 non-null   int64  \n",
      " 4   Work_phone       9709 non-null   int64  \n",
      " 5   Phone            9709 non-null   int64  \n",
      " 6   Email            9709 non-null   int64  \n",
      " 7   Unemployed       9709 non-null   int64  \n",
      " 8   Num_children     9709 non-null   int64  \n",
      " 9   Num_family       9709 non-null   int64  \n",
      " 10  Account_length   9709 non-null   int64  \n",
      " 11  Total_income     9709 non-null   float64\n",
      " 12  Age              9709 non-null   float64\n",
      " 13  Years_employed   9709 non-null   float64\n",
      " 14  Income_type      9709 non-null   object \n",
      " 15  Education_type   9709 non-null   object \n",
      " 16  Family_status    9709 non-null   object \n",
      " 17  Housing_type     9709 non-null   object \n",
      " 18  Occupation_type  9709 non-null   object \n",
      " 19  Target           9709 non-null   int64  \n",
      "dtypes: float64(3), int64(12), object(5)\n",
      "memory usage: 1.5+ MB\n"
     ]
    }
   ],
   "source": [
    "df.info()"
   ]
  },
  {
   "cell_type": "markdown",
   "metadata": {
    "id": "NS0Y1sv5HYAu"
   },
   "source": [
    ">   - There is no null value in this dataset.\n",
    ">   - **Target** is the response column.\n",
    ">   - There are $5$ columns of *text* data-type and others are *numeric*."
   ]
  },
  {
   "cell_type": "code",
   "execution_count": 7,
   "metadata": {
    "colab": {
     "base_uri": "https://localhost:8080/"
    },
    "executionInfo": {
     "elapsed": 12,
     "status": "ok",
     "timestamp": 1716720248913,
     "user": {
      "displayName": "Aditya Barik",
      "userId": "12620606418240704179"
     },
     "user_tz": -330
    },
    "id": "Qn3Nc1cYHYAw",
    "outputId": "7c45205b-9965-41fd-c906-b9823eff7dae"
   },
   "outputs": [
    {
     "data": {
      "text/plain": [
       "ID                 9709\n",
       "Gender                2\n",
       "Own_car               2\n",
       "Own_property          2\n",
       "Work_phone            2\n",
       "Phone                 2\n",
       "Email                 2\n",
       "Unemployed            2\n",
       "Num_children          9\n",
       "Num_family           10\n",
       "Account_length       61\n",
       "Total_income        263\n",
       "Age                7172\n",
       "Years_employed     3637\n",
       "Income_type           5\n",
       "Education_type        5\n",
       "Family_status         5\n",
       "Housing_type          6\n",
       "Occupation_type      19\n",
       "Target                2\n",
       "dtype: int64"
      ]
     },
     "execution_count": 7,
     "metadata": {},
     "output_type": "execute_result"
    }
   ],
   "source": [
    "df.nunique()"
   ]
  },
  {
   "cell_type": "markdown",
   "metadata": {
    "id": "fMMa7_FhMkKt"
   },
   "source": [
    ">   - Most of the columns seems to be **categorical** in nature as *the number of unique values in these columns are very less*.\n",
    ">   - The columns where *number of unique values is 2*, seems to be **binary** in nature."
   ]
  },
  {
   "cell_type": "code",
   "execution_count": 8,
   "metadata": {
    "colab": {
     "base_uri": "https://localhost:8080/",
     "height": 320
    },
    "executionInfo": {
     "elapsed": 601,
     "status": "ok",
     "timestamp": 1716720249504,
     "user": {
      "displayName": "Aditya Barik",
      "userId": "12620606418240704179"
     },
     "user_tz": -330
    },
    "id": "ltN9gEOKHYAw",
    "outputId": "9ec75a3f-958a-4872-e0dd-a46094d4efb6"
   },
   "outputs": [
    {
     "data": {
      "text/html": [
       "<div>\n",
       "<style scoped>\n",
       "    .dataframe tbody tr th:only-of-type {\n",
       "        vertical-align: middle;\n",
       "    }\n",
       "\n",
       "    .dataframe tbody tr th {\n",
       "        vertical-align: top;\n",
       "    }\n",
       "\n",
       "    .dataframe thead th {\n",
       "        text-align: right;\n",
       "    }\n",
       "</style>\n",
       "<table border=\"1\" class=\"dataframe\">\n",
       "  <thead>\n",
       "    <tr style=\"text-align: right;\">\n",
       "      <th></th>\n",
       "      <th>ID</th>\n",
       "      <th>Gender</th>\n",
       "      <th>Own_car</th>\n",
       "      <th>Own_property</th>\n",
       "      <th>Work_phone</th>\n",
       "      <th>Phone</th>\n",
       "      <th>Email</th>\n",
       "      <th>Unemployed</th>\n",
       "      <th>Num_children</th>\n",
       "      <th>Num_family</th>\n",
       "      <th>Account_length</th>\n",
       "      <th>Total_income</th>\n",
       "      <th>Age</th>\n",
       "      <th>Years_employed</th>\n",
       "      <th>Target</th>\n",
       "    </tr>\n",
       "  </thead>\n",
       "  <tbody>\n",
       "    <tr>\n",
       "      <th>count</th>\n",
       "      <td>9.709000e+03</td>\n",
       "      <td>9709.000000</td>\n",
       "      <td>9709.000000</td>\n",
       "      <td>9709.000000</td>\n",
       "      <td>9709.000000</td>\n",
       "      <td>9709.000000</td>\n",
       "      <td>9709.000000</td>\n",
       "      <td>9709.000000</td>\n",
       "      <td>9709.000000</td>\n",
       "      <td>9709.000000</td>\n",
       "      <td>9709.000000</td>\n",
       "      <td>9.709000e+03</td>\n",
       "      <td>9709.000000</td>\n",
       "      <td>9709.000000</td>\n",
       "      <td>9709.000000</td>\n",
       "    </tr>\n",
       "    <tr>\n",
       "      <th>mean</th>\n",
       "      <td>5.076105e+06</td>\n",
       "      <td>0.348749</td>\n",
       "      <td>0.367700</td>\n",
       "      <td>0.671542</td>\n",
       "      <td>0.217427</td>\n",
       "      <td>0.287671</td>\n",
       "      <td>0.087548</td>\n",
       "      <td>0.174683</td>\n",
       "      <td>0.422804</td>\n",
       "      <td>2.182614</td>\n",
       "      <td>27.270059</td>\n",
       "      <td>1.812282e+05</td>\n",
       "      <td>43.784093</td>\n",
       "      <td>5.664730</td>\n",
       "      <td>0.132145</td>\n",
       "    </tr>\n",
       "    <tr>\n",
       "      <th>std</th>\n",
       "      <td>4.080270e+04</td>\n",
       "      <td>0.476599</td>\n",
       "      <td>0.482204</td>\n",
       "      <td>0.469677</td>\n",
       "      <td>0.412517</td>\n",
       "      <td>0.452700</td>\n",
       "      <td>0.282650</td>\n",
       "      <td>0.379716</td>\n",
       "      <td>0.767019</td>\n",
       "      <td>0.932918</td>\n",
       "      <td>16.648057</td>\n",
       "      <td>9.927731e+04</td>\n",
       "      <td>11.625768</td>\n",
       "      <td>6.342241</td>\n",
       "      <td>0.338666</td>\n",
       "    </tr>\n",
       "    <tr>\n",
       "      <th>min</th>\n",
       "      <td>5.008804e+06</td>\n",
       "      <td>0.000000</td>\n",
       "      <td>0.000000</td>\n",
       "      <td>0.000000</td>\n",
       "      <td>0.000000</td>\n",
       "      <td>0.000000</td>\n",
       "      <td>0.000000</td>\n",
       "      <td>0.000000</td>\n",
       "      <td>0.000000</td>\n",
       "      <td>1.000000</td>\n",
       "      <td>0.000000</td>\n",
       "      <td>2.700000e+04</td>\n",
       "      <td>20.504186</td>\n",
       "      <td>0.000000</td>\n",
       "      <td>0.000000</td>\n",
       "    </tr>\n",
       "    <tr>\n",
       "      <th>25%</th>\n",
       "      <td>5.036955e+06</td>\n",
       "      <td>0.000000</td>\n",
       "      <td>0.000000</td>\n",
       "      <td>0.000000</td>\n",
       "      <td>0.000000</td>\n",
       "      <td>0.000000</td>\n",
       "      <td>0.000000</td>\n",
       "      <td>0.000000</td>\n",
       "      <td>0.000000</td>\n",
       "      <td>2.000000</td>\n",
       "      <td>13.000000</td>\n",
       "      <td>1.125000e+05</td>\n",
       "      <td>34.059563</td>\n",
       "      <td>0.928150</td>\n",
       "      <td>0.000000</td>\n",
       "    </tr>\n",
       "    <tr>\n",
       "      <th>50%</th>\n",
       "      <td>5.069449e+06</td>\n",
       "      <td>0.000000</td>\n",
       "      <td>0.000000</td>\n",
       "      <td>1.000000</td>\n",
       "      <td>0.000000</td>\n",
       "      <td>0.000000</td>\n",
       "      <td>0.000000</td>\n",
       "      <td>0.000000</td>\n",
       "      <td>0.000000</td>\n",
       "      <td>2.000000</td>\n",
       "      <td>26.000000</td>\n",
       "      <td>1.575000e+05</td>\n",
       "      <td>42.741466</td>\n",
       "      <td>3.761884</td>\n",
       "      <td>0.000000</td>\n",
       "    </tr>\n",
       "    <tr>\n",
       "      <th>75%</th>\n",
       "      <td>5.112986e+06</td>\n",
       "      <td>1.000000</td>\n",
       "      <td>1.000000</td>\n",
       "      <td>1.000000</td>\n",
       "      <td>0.000000</td>\n",
       "      <td>1.000000</td>\n",
       "      <td>0.000000</td>\n",
       "      <td>0.000000</td>\n",
       "      <td>1.000000</td>\n",
       "      <td>3.000000</td>\n",
       "      <td>41.000000</td>\n",
       "      <td>2.250000e+05</td>\n",
       "      <td>53.567151</td>\n",
       "      <td>8.200031</td>\n",
       "      <td>0.000000</td>\n",
       "    </tr>\n",
       "    <tr>\n",
       "      <th>max</th>\n",
       "      <td>5.150479e+06</td>\n",
       "      <td>1.000000</td>\n",
       "      <td>1.000000</td>\n",
       "      <td>1.000000</td>\n",
       "      <td>1.000000</td>\n",
       "      <td>1.000000</td>\n",
       "      <td>1.000000</td>\n",
       "      <td>1.000000</td>\n",
       "      <td>19.000000</td>\n",
       "      <td>20.000000</td>\n",
       "      <td>60.000000</td>\n",
       "      <td>1.575000e+06</td>\n",
       "      <td>68.863837</td>\n",
       "      <td>43.020733</td>\n",
       "      <td>1.000000</td>\n",
       "    </tr>\n",
       "  </tbody>\n",
       "</table>\n",
       "</div>"
      ],
      "text/plain": [
       "                 ID       Gender      Own_car  Own_property   Work_phone  \\\n",
       "count  9.709000e+03  9709.000000  9709.000000   9709.000000  9709.000000   \n",
       "mean   5.076105e+06     0.348749     0.367700      0.671542     0.217427   \n",
       "std    4.080270e+04     0.476599     0.482204      0.469677     0.412517   \n",
       "min    5.008804e+06     0.000000     0.000000      0.000000     0.000000   \n",
       "25%    5.036955e+06     0.000000     0.000000      0.000000     0.000000   \n",
       "50%    5.069449e+06     0.000000     0.000000      1.000000     0.000000   \n",
       "75%    5.112986e+06     1.000000     1.000000      1.000000     0.000000   \n",
       "max    5.150479e+06     1.000000     1.000000      1.000000     1.000000   \n",
       "\n",
       "             Phone        Email   Unemployed  Num_children   Num_family  \\\n",
       "count  9709.000000  9709.000000  9709.000000   9709.000000  9709.000000   \n",
       "mean      0.287671     0.087548     0.174683      0.422804     2.182614   \n",
       "std       0.452700     0.282650     0.379716      0.767019     0.932918   \n",
       "min       0.000000     0.000000     0.000000      0.000000     1.000000   \n",
       "25%       0.000000     0.000000     0.000000      0.000000     2.000000   \n",
       "50%       0.000000     0.000000     0.000000      0.000000     2.000000   \n",
       "75%       1.000000     0.000000     0.000000      1.000000     3.000000   \n",
       "max       1.000000     1.000000     1.000000     19.000000    20.000000   \n",
       "\n",
       "       Account_length  Total_income          Age  Years_employed       Target  \n",
       "count     9709.000000  9.709000e+03  9709.000000     9709.000000  9709.000000  \n",
       "mean        27.270059  1.812282e+05    43.784093        5.664730     0.132145  \n",
       "std         16.648057  9.927731e+04    11.625768        6.342241     0.338666  \n",
       "min          0.000000  2.700000e+04    20.504186        0.000000     0.000000  \n",
       "25%         13.000000  1.125000e+05    34.059563        0.928150     0.000000  \n",
       "50%         26.000000  1.575000e+05    42.741466        3.761884     0.000000  \n",
       "75%         41.000000  2.250000e+05    53.567151        8.200031     0.000000  \n",
       "max         60.000000  1.575000e+06    68.863837       43.020733     1.000000  "
      ]
     },
     "execution_count": 8,
     "metadata": {},
     "output_type": "execute_result"
    }
   ],
   "source": [
    "df.describe()"
   ]
  },
  {
   "cell_type": "markdown",
   "metadata": {
    "id": "Cgx2-qFHK31a"
   },
   "source": [
    "# Exploratory Data Analysis"
   ]
  },
  {
   "cell_type": "code",
   "execution_count": 9,
   "metadata": {
    "executionInfo": {
     "elapsed": 617,
     "status": "ok",
     "timestamp": 1716724516492,
     "user": {
      "displayName": "Aditya Barik",
      "userId": "12620606418240704179"
     },
     "user_tz": -330
    },
    "id": "ugM-YZWGvelm"
   },
   "outputs": [],
   "source": [
    "df1 = df.copy()\n",
    "df1.Target.replace(to_replace = 0, value = \"Not Eligible\", inplace = True)\n",
    "df1.Target.replace(to_replace = 1, value = \"Eligible\", inplace = True)"
   ]
  },
  {
   "cell_type": "code",
   "execution_count": 10,
   "metadata": {
    "colab": {
     "base_uri": "https://localhost:8080/"
    },
    "executionInfo": {
     "elapsed": 6,
     "status": "ok",
     "timestamp": 1716724517254,
     "user": {
      "displayName": "Aditya Barik",
      "userId": "12620606418240704179"
     },
     "user_tz": -330
    },
    "id": "KDByHdPLHYAx",
    "outputId": "a6d6066e-0085-4077-af88-e4fea090ac56"
   },
   "outputs": [
    {
     "data": {
      "text/plain": [
       "Education_type\n",
       "Academic degree                  247500.000000\n",
       "Higher education                 220841.661172\n",
       "Incomplete higher                199431.266846\n",
       "Secondary / secondary special    166545.160405\n",
       "Lower secondary                  135532.894737\n",
       "Name: Total_income, dtype: float64"
      ]
     },
     "execution_count": 10,
     "metadata": {},
     "output_type": "execute_result"
    }
   ],
   "source": [
    "df1.groupby(\"Education_type\")[\"Total_income\"].mean().sort_values(ascending = False)"
   ]
  },
  {
   "cell_type": "markdown",
   "metadata": {
    "id": "r3bpzHzuODhO"
   },
   "source": [
    ">   - The **Education Type** column seems to be ordinal in nature.\n",
    ">   - The **Education Type** and **Total_income** columns are positively correlated."
   ]
  },
  {
   "cell_type": "code",
   "execution_count": 11,
   "metadata": {
    "colab": {
     "base_uri": "https://localhost:8080/"
    },
    "executionInfo": {
     "elapsed": 555,
     "status": "ok",
     "timestamp": 1716724585126,
     "user": {
      "displayName": "Aditya Barik",
      "userId": "12620606418240704179"
     },
     "user_tz": -330
    },
    "id": "AC4_7-1bwikp",
    "outputId": "dce1c00b-80e6-433f-990f-b8a204cc29ed"
   },
   "outputs": [
    {
     "data": {
      "text/plain": [
       "Occupation_type\n",
       "Managers                 276028.216113\n",
       "IT staff                 216450.000000\n",
       "Realty agents            211781.250000\n",
       "Accountants              203420.175000\n",
       "Drivers                  202070.947030\n",
       "HR staff                 195954.545455\n",
       "Private service staff    194703.488372\n",
       "High skill tech staff    191292.857143\n",
       "Core staff               186171.100912\n",
       "Laborers                 175121.183005\n",
       "Security staff           170572.252747\n",
       "Sales staff              166590.084463\n",
       "Secretaries              165521.739130\n",
       "Waiters/barmen staff     162675.000000\n",
       "Other                    162437.490481\n",
       "Medicine staff           160539.556701\n",
       "Cooking staff            147383.160622\n",
       "Cleaning staff           146635.273973\n",
       "Low-skill Laborers       134490.566038\n",
       "Name: Total_income, dtype: float64"
      ]
     },
     "execution_count": 11,
     "metadata": {},
     "output_type": "execute_result"
    }
   ],
   "source": [
    "df.groupby(\"Occupation_type\")[\"Total_income\"].mean().sort_values(ascending = False)"
   ]
  },
  {
   "cell_type": "code",
   "execution_count": 12,
   "metadata": {
    "colab": {
     "base_uri": "https://localhost:8080/"
    },
    "executionInfo": {
     "elapsed": 10,
     "status": "ok",
     "timestamp": 1716724660648,
     "user": {
      "displayName": "Aditya Barik",
      "userId": "12620606418240704179"
     },
     "user_tz": -330
    },
    "id": "mq9u4dKnwy7c",
    "outputId": "244abe21-43e5-4210-8cc0-35e53695758e"
   },
   "outputs": [
    {
     "data": {
      "text/plain": [
       "Income_type\n",
       "Commercial associate    211983.125216\n",
       "State servant           195241.780471\n",
       "Working                 176909.575101\n",
       "Pensioner               146369.741530\n",
       "Student                 139500.000000\n",
       "Name: Total_income, dtype: float64"
      ]
     },
     "execution_count": 12,
     "metadata": {},
     "output_type": "execute_result"
    }
   ],
   "source": [
    "df.groupby(\"Income_type\")[\"Total_income\"].mean().sort_values(ascending = False)"
   ]
  },
  {
   "cell_type": "code",
   "execution_count": 13,
   "metadata": {
    "colab": {
     "base_uri": "https://localhost:8080/",
     "height": 472
    },
    "executionInfo": {
     "elapsed": 15,
     "status": "ok",
     "timestamp": 1716724518005,
     "user": {
      "displayName": "Aditya Barik",
      "userId": "12620606418240704179"
     },
     "user_tz": -330
    },
    "id": "NHOLSp5eupVm",
    "outputId": "12894b44-2186-4755-88e9-b710bb077351"
   },
   "outputs": [
    {
     "data": {
      "image/png": "[encoded data removed]",
      "text/plain": [
       "<Figure size 432x288 with 1 Axes>"
      ]
     },
     "metadata": {
      "needs_background": "light"
     },
     "output_type": "display_data"
    }
   ],
   "source": [
    "sns.countplot(x = \"Gender\", data = df1)\n",
    "plt.xticks(ticks = [0, 1], labels = [\"Male\", \"Female\"])\n",
    "for i, v in enumerate(df[\"Gender\"].value_counts().values):\n",
    "    plt.text(i, v + 60, str(v))\n",
    "plt.title(\"Gender Distribution\")\n",
    "plt.show()"
   ]
  },
  {
   "cell_type": "code",
   "execution_count": 14,
   "metadata": {
    "colab": {
     "base_uri": "https://localhost:8080/",
     "height": 472
    },
    "executionInfo": {
     "elapsed": 11,
     "status": "ok",
     "timestamp": 1716724518715,
     "user": {
      "displayName": "Aditya Barik",
      "userId": "12620606418240704179"
     },
     "user_tz": -330
    },
    "id": "0VOI9f2xvSam",
    "outputId": "8b033d45-037e-4645-8718-3daf5001d90e"
   },
   "outputs": [
    {
     "data": {
      "image/png": "[encoded data removed]",
      "text/plain": [
       "<Figure size 432x288 with 1 Axes>"
      ]
     },
     "metadata": {
      "needs_background": "light"
     },
     "output_type": "display_data"
    }
   ],
   "source": [
    "sns.countplot(x = \"Gender\", hue = \"Target\", data = df1)\n",
    "plt.title(\"Cradit Card Distribution vs Gender\")\n",
    "plt.xticks(ticks = [0, 1], labels = [\"Male\", \"Female\"])\n",
    "plt.legend()\n",
    "plt.show()"
   ]
  },
  {
   "cell_type": "code",
   "execution_count": 15,
   "metadata": {
    "colab": {
     "base_uri": "https://localhost:8080/",
     "height": 472
    },
    "executionInfo": {
     "elapsed": 12,
     "status": "ok",
     "timestamp": 1716724519759,
     "user": {
      "displayName": "Aditya Barik",
      "userId": "12620606418240704179"
     },
     "user_tz": -330
    },
    "id": "zyHMtjz3wDXp",
    "outputId": "ec4f8933-f9f4-482e-a9da-fe8ccf291825"
   },
   "outputs": [
    {
     "data": {
      "image/png": "[encoded data removed]",
      "text/plain": [
       "<Figure size 432x288 with 1 Axes>"
      ]
     },
     "metadata": {
      "needs_background": "light"
     },
     "output_type": "display_data"
    }
   ],
   "source": [
    "sns.boxplot(y = \"Age\", x = \"Target\", orient = \"v\", data = df1)\n",
    "plt.title(\"Credit Card Eligibility according to Age\")\n",
    "plt.show()"
   ]
  },
  {
   "cell_type": "code",
   "execution_count": 16,
   "metadata": {
    "colab": {
     "base_uri": "https://localhost:8080/",
     "height": 509
    },
    "executionInfo": {
     "elapsed": 10,
     "status": "ok",
     "timestamp": 1716724519760,
     "user": {
      "displayName": "Aditya Barik",
      "userId": "12620606418240704179"
     },
     "user_tz": -330
    },
    "id": "YAVSjAd7tZ0Y",
    "outputId": "bac4b9a9-d66c-4415-ca27-22a43b399f92"
   },
   "outputs": [
    {
     "data": {
      "image/png": "[encoded data removed]",
      "text/plain": [
       "<Figure size 432x288 with 1 Axes>"
      ]
     },
     "metadata": {},
     "output_type": "display_data"
    }
   ],
   "source": [
    "fig, ax = plt.subplots()\n",
    "ax.pie(\n",
    "    df1[\"Target\"].value_counts(),\n",
    "    labels = [\"Not Eligible\", \"Eligible\"],\n",
    "    autopct = \"%1.1f%%\"\n",
    ")\n",
    "\n",
    "# Draw Circle\n",
    "centre_circle = plt.Circle((0,0), 0.75, fc = \"white\")\n",
    "fig = plt.gcf()\n",
    "fig.gca().add_artist(centre_circle)\n",
    "\n",
    "# Equal Aspect Ratio ensures that Pie is drawn as a Circle\n",
    "ax.axis(\"equal\")\n",
    "plt.tight_layout()\n",
    "plt.title(\"Proportion of Eligible and Not Eligible customers\")\n",
    "plt.show()"
   ]
  },
  {
   "cell_type": "markdown",
   "metadata": {
    "id": "23giViGcuUVs"
   },
   "source": [
    "> From the above chart we can say that the data is **imbalanced**."
   ]
  },
  {
   "cell_type": "markdown",
   "metadata": {
    "id": "TK0g4XbRLAwd"
   },
   "source": [
    "# Feature Engineering"
   ]
  },
  {
   "cell_type": "code",
   "execution_count": 17,
   "metadata": {
    "executionInfo": {
     "elapsed": 20,
     "status": "ok",
     "timestamp": 1716720249504,
     "user": {
      "displayName": "Aditya Barik",
      "userId": "12620606418240704179"
     },
     "user_tz": -330
    },
    "id": "u2pLySFCHYA1"
   },
   "outputs": [],
   "source": [
    "df.drop([\"ID\", \"Phone\", \"Work_phone\", \"Email\", \"Unemployed\"], axis = 1, inplace = True)"
   ]
  },
  {
   "cell_type": "markdown",
   "metadata": {
    "id": "G8Tel7x9HYA1"
   },
   "source": [
    "> Here we are dropping all the columns which are irrelevent for the credit card classification task, such as, \"ID\", \"Phone\", \"Work_phone\", \"Email\", \"Unemployed\"."
   ]
  },
  {
   "cell_type": "code",
   "execution_count": 18,
   "metadata": {
    "executionInfo": {
     "elapsed": 20,
     "status": "ok",
     "timestamp": 1716720249504,
     "user": {
      "displayName": "Aditya Barik",
      "userId": "12620606418240704179"
     },
     "user_tz": -330
    },
    "id": "-ryhWfcRHYA3"
   },
   "outputs": [],
   "source": [
    "df_num = df[[\n",
    "    \"Gender\",\n",
    "    \"Own_car\",\n",
    "    \"Own_property\",\n",
    "    \"Num_children\",\n",
    "    \"Num_family\",\n",
    "    \"Account_length\",\n",
    "    \"Total_income\",\n",
    "    \"Age\",\n",
    "    \"Years_employed\"\n",
    "]]\n",
    "\n",
    "df_cat = df[[\n",
    "    \"Income_type\",\n",
    "    \"Education_type\",\n",
    "    \"Family_status\",\n",
    "    \"Housing_type\",\n",
    "    \"Occupation_type\"\n",
    "]]\n",
    "\n",
    "df_res = df[[\n",
    "    \"Target\"\n",
    "]]"
   ]
  },
  {
   "cell_type": "code",
   "execution_count": 19,
   "metadata": {
    "colab": {
     "base_uri": "https://localhost:8080/",
     "height": 206
    },
    "executionInfo": {
     "elapsed": 20,
     "status": "ok",
     "timestamp": 1716720249504,
     "user": {
      "displayName": "Aditya Barik",
      "userId": "12620606418240704179"
     },
     "user_tz": -330
    },
    "id": "mQGTYWxqaT7L",
    "outputId": "6a0af124-6f6a-44a6-e93d-4c8e32b1e080"
   },
   "outputs": [
    {
     "data": {
      "text/html": [
       "<div>\n",
       "<style scoped>\n",
       "    .dataframe tbody tr th:only-of-type {\n",
       "        vertical-align: middle;\n",
       "    }\n",
       "\n",
       "    .dataframe tbody tr th {\n",
       "        vertical-align: top;\n",
       "    }\n",
       "\n",
       "    .dataframe thead th {\n",
       "        text-align: right;\n",
       "    }\n",
       "</style>\n",
       "<table border=\"1\" class=\"dataframe\">\n",
       "  <thead>\n",
       "    <tr style=\"text-align: right;\">\n",
       "      <th></th>\n",
       "      <th>Income_type</th>\n",
       "      <th>Education_type</th>\n",
       "      <th>Family_status</th>\n",
       "      <th>Housing_type</th>\n",
       "      <th>Occupation_type</th>\n",
       "    </tr>\n",
       "  </thead>\n",
       "  <tbody>\n",
       "    <tr>\n",
       "      <th>0</th>\n",
       "      <td>Working</td>\n",
       "      <td>Higher education</td>\n",
       "      <td>Civil marriage</td>\n",
       "      <td>Rented apartment</td>\n",
       "      <td>Other</td>\n",
       "    </tr>\n",
       "    <tr>\n",
       "      <th>1</th>\n",
       "      <td>Working</td>\n",
       "      <td>Secondary / secondary special</td>\n",
       "      <td>Married</td>\n",
       "      <td>House / apartment</td>\n",
       "      <td>Security staff</td>\n",
       "    </tr>\n",
       "    <tr>\n",
       "      <th>2</th>\n",
       "      <td>Commercial associate</td>\n",
       "      <td>Secondary / secondary special</td>\n",
       "      <td>Single / not married</td>\n",
       "      <td>House / apartment</td>\n",
       "      <td>Sales staff</td>\n",
       "    </tr>\n",
       "    <tr>\n",
       "      <th>3</th>\n",
       "      <td>Pensioner</td>\n",
       "      <td>Higher education</td>\n",
       "      <td>Separated</td>\n",
       "      <td>House / apartment</td>\n",
       "      <td>Other</td>\n",
       "    </tr>\n",
       "    <tr>\n",
       "      <th>4</th>\n",
       "      <td>Working</td>\n",
       "      <td>Higher education</td>\n",
       "      <td>Married</td>\n",
       "      <td>House / apartment</td>\n",
       "      <td>Accountants</td>\n",
       "    </tr>\n",
       "  </tbody>\n",
       "</table>\n",
       "</div>"
      ],
      "text/plain": [
       "            Income_type                 Education_type         Family_status  \\\n",
       "0               Working               Higher education        Civil marriage   \n",
       "1               Working  Secondary / secondary special               Married   \n",
       "2  Commercial associate  Secondary / secondary special  Single / not married   \n",
       "3             Pensioner               Higher education             Separated   \n",
       "4               Working               Higher education               Married   \n",
       "\n",
       "        Housing_type Occupation_type  \n",
       "0   Rented apartment           Other  \n",
       "1  House / apartment  Security staff  \n",
       "2  House / apartment     Sales staff  \n",
       "3  House / apartment           Other  \n",
       "4  House / apartment     Accountants  "
      ]
     },
     "execution_count": 19,
     "metadata": {},
     "output_type": "execute_result"
    }
   ],
   "source": [
    "df_cat.head()"
   ]
  },
  {
   "cell_type": "code",
   "execution_count": 20,
   "metadata": {
    "executionInfo": {
     "elapsed": 19,
     "status": "ok",
     "timestamp": 1716720249504,
     "user": {
      "displayName": "Aditya Barik",
      "userId": "12620606418240704179"
     },
     "user_tz": -330
    },
    "id": "JQNqPWeEHYA3"
   },
   "outputs": [],
   "source": [
    "df_cat_conv = pd.get_dummies(df_cat, dtype = int)"
   ]
  },
  {
   "cell_type": "code",
   "execution_count": 21,
   "metadata": {
    "colab": {
     "base_uri": "https://localhost:8080/",
     "height": 273
    },
    "executionInfo": {
     "elapsed": 18,
     "status": "ok",
     "timestamp": 1716720249504,
     "user": {
      "displayName": "Aditya Barik",
      "userId": "12620606418240704179"
     },
     "user_tz": -330
    },
    "id": "d7XkjXd_aJ17",
    "outputId": "39532701-4b86-4b59-9115-3a6aaab2a3e4"
   },
   "outputs": [
    {
     "data": {
      "text/html": [
       "<div>\n",
       "<style scoped>\n",
       "    .dataframe tbody tr th:only-of-type {\n",
       "        vertical-align: middle;\n",
       "    }\n",
       "\n",
       "    .dataframe tbody tr th {\n",
       "        vertical-align: top;\n",
       "    }\n",
       "\n",
       "    .dataframe thead th {\n",
       "        text-align: right;\n",
       "    }\n",
       "</style>\n",
       "<table border=\"1\" class=\"dataframe\">\n",
       "  <thead>\n",
       "    <tr style=\"text-align: right;\">\n",
       "      <th></th>\n",
       "      <th>Income_type_Commercial associate</th>\n",
       "      <th>Income_type_Pensioner</th>\n",
       "      <th>Income_type_State servant</th>\n",
       "      <th>Income_type_Student</th>\n",
       "      <th>Income_type_Working</th>\n",
       "      <th>Education_type_Academic degree</th>\n",
       "      <th>Education_type_Higher education</th>\n",
       "      <th>Education_type_Incomplete higher</th>\n",
       "      <th>Education_type_Lower secondary</th>\n",
       "      <th>Education_type_Secondary / secondary special</th>\n",
       "      <th>...</th>\n",
       "      <th>Occupation_type_Low-skill Laborers</th>\n",
       "      <th>Occupation_type_Managers</th>\n",
       "      <th>Occupation_type_Medicine staff</th>\n",
       "      <th>Occupation_type_Other</th>\n",
       "      <th>Occupation_type_Private service staff</th>\n",
       "      <th>Occupation_type_Realty agents</th>\n",
       "      <th>Occupation_type_Sales staff</th>\n",
       "      <th>Occupation_type_Secretaries</th>\n",
       "      <th>Occupation_type_Security staff</th>\n",
       "      <th>Occupation_type_Waiters/barmen staff</th>\n",
       "    </tr>\n",
       "  </thead>\n",
       "  <tbody>\n",
       "    <tr>\n",
       "      <th>0</th>\n",
       "      <td>0</td>\n",
       "      <td>0</td>\n",
       "      <td>0</td>\n",
       "      <td>0</td>\n",
       "      <td>1</td>\n",
       "      <td>0</td>\n",
       "      <td>1</td>\n",
       "      <td>0</td>\n",
       "      <td>0</td>\n",
       "      <td>0</td>\n",
       "      <td>...</td>\n",
       "      <td>0</td>\n",
       "      <td>0</td>\n",
       "      <td>0</td>\n",
       "      <td>1</td>\n",
       "      <td>0</td>\n",
       "      <td>0</td>\n",
       "      <td>0</td>\n",
       "      <td>0</td>\n",
       "      <td>0</td>\n",
       "      <td>0</td>\n",
       "    </tr>\n",
       "    <tr>\n",
       "      <th>1</th>\n",
       "      <td>0</td>\n",
       "      <td>0</td>\n",
       "      <td>0</td>\n",
       "      <td>0</td>\n",
       "      <td>1</td>\n",
       "      <td>0</td>\n",
       "      <td>0</td>\n",
       "      <td>0</td>\n",
       "      <td>0</td>\n",
       "      <td>1</td>\n",
       "      <td>...</td>\n",
       "      <td>0</td>\n",
       "      <td>0</td>\n",
       "      <td>0</td>\n",
       "      <td>0</td>\n",
       "      <td>0</td>\n",
       "      <td>0</td>\n",
       "      <td>0</td>\n",
       "      <td>0</td>\n",
       "      <td>1</td>\n",
       "      <td>0</td>\n",
       "    </tr>\n",
       "    <tr>\n",
       "      <th>2</th>\n",
       "      <td>1</td>\n",
       "      <td>0</td>\n",
       "      <td>0</td>\n",
       "      <td>0</td>\n",
       "      <td>0</td>\n",
       "      <td>0</td>\n",
       "      <td>0</td>\n",
       "      <td>0</td>\n",
       "      <td>0</td>\n",
       "      <td>1</td>\n",
       "      <td>...</td>\n",
       "      <td>0</td>\n",
       "      <td>0</td>\n",
       "      <td>0</td>\n",
       "      <td>0</td>\n",
       "      <td>0</td>\n",
       "      <td>0</td>\n",
       "      <td>1</td>\n",
       "      <td>0</td>\n",
       "      <td>0</td>\n",
       "      <td>0</td>\n",
       "    </tr>\n",
       "    <tr>\n",
       "      <th>3</th>\n",
       "      <td>0</td>\n",
       "      <td>1</td>\n",
       "      <td>0</td>\n",
       "      <td>0</td>\n",
       "      <td>0</td>\n",
       "      <td>0</td>\n",
       "      <td>1</td>\n",
       "      <td>0</td>\n",
       "      <td>0</td>\n",
       "      <td>0</td>\n",
       "      <td>...</td>\n",
       "      <td>0</td>\n",
       "      <td>0</td>\n",
       "      <td>0</td>\n",
       "      <td>1</td>\n",
       "      <td>0</td>\n",
       "      <td>0</td>\n",
       "      <td>0</td>\n",
       "      <td>0</td>\n",
       "      <td>0</td>\n",
       "      <td>0</td>\n",
       "    </tr>\n",
       "    <tr>\n",
       "      <th>4</th>\n",
       "      <td>0</td>\n",
       "      <td>0</td>\n",
       "      <td>0</td>\n",
       "      <td>0</td>\n",
       "      <td>1</td>\n",
       "      <td>0</td>\n",
       "      <td>1</td>\n",
       "      <td>0</td>\n",
       "      <td>0</td>\n",
       "      <td>0</td>\n",
       "      <td>...</td>\n",
       "      <td>0</td>\n",
       "      <td>0</td>\n",
       "      <td>0</td>\n",
       "      <td>0</td>\n",
       "      <td>0</td>\n",
       "      <td>0</td>\n",
       "      <td>0</td>\n",
       "      <td>0</td>\n",
       "      <td>0</td>\n",
       "      <td>0</td>\n",
       "    </tr>\n",
       "  </tbody>\n",
       "</table>\n",
       "<p>5 rows × 40 columns</p>\n",
       "</div>"
      ],
      "text/plain": [
       "   Income_type_Commercial associate  Income_type_Pensioner  \\\n",
       "0                                 0                      0   \n",
       "1                                 0                      0   \n",
       "2                                 1                      0   \n",
       "3                                 0                      1   \n",
       "4                                 0                      0   \n",
       "\n",
       "   Income_type_State servant  Income_type_Student  Income_type_Working  \\\n",
       "0                          0                    0                    1   \n",
       "1                          0                    0                    1   \n",
       "2                          0                    0                    0   \n",
       "3                          0                    0                    0   \n",
       "4                          0                    0                    1   \n",
       "\n",
       "   Education_type_Academic degree  Education_type_Higher education  \\\n",
       "0                               0                                1   \n",
       "1                               0                                0   \n",
       "2                               0                                0   \n",
       "3                               0                                1   \n",
       "4                               0                                1   \n",
       "\n",
       "   Education_type_Incomplete higher  Education_type_Lower secondary  \\\n",
       "0                                 0                               0   \n",
       "1                                 0                               0   \n",
       "2                                 0                               0   \n",
       "3                                 0                               0   \n",
       "4                                 0                               0   \n",
       "\n",
       "   Education_type_Secondary / secondary special  ...  \\\n",
       "0                                             0  ...   \n",
       "1                                             1  ...   \n",
       "2                                             1  ...   \n",
       "3                                             0  ...   \n",
       "4                                             0  ...   \n",
       "\n",
       "   Occupation_type_Low-skill Laborers  Occupation_type_Managers  \\\n",
       "0                                   0                         0   \n",
       "1                                   0                         0   \n",
       "2                                   0                         0   \n",
       "3                                   0                         0   \n",
       "4                                   0                         0   \n",
       "\n",
       "   Occupation_type_Medicine staff  Occupation_type_Other  \\\n",
       "0                               0                      1   \n",
       "1                               0                      0   \n",
       "2                               0                      0   \n",
       "3                               0                      1   \n",
       "4                               0                      0   \n",
       "\n",
       "   Occupation_type_Private service staff  Occupation_type_Realty agents  \\\n",
       "0                                      0                              0   \n",
       "1                                      0                              0   \n",
       "2                                      0                              0   \n",
       "3                                      0                              0   \n",
       "4                                      0                              0   \n",
       "\n",
       "   Occupation_type_Sales staff  Occupation_type_Secretaries  \\\n",
       "0                            0                            0   \n",
       "1                            0                            0   \n",
       "2                            1                            0   \n",
       "3                            0                            0   \n",
       "4                            0                            0   \n",
       "\n",
       "   Occupation_type_Security staff  Occupation_type_Waiters/barmen staff  \n",
       "0                               0                                     0  \n",
       "1                               1                                     0  \n",
       "2                               0                                     0  \n",
       "3                               0                                     0  \n",
       "4                               0                                     0  \n",
       "\n",
       "[5 rows x 40 columns]"
      ]
     },
     "execution_count": 21,
     "metadata": {},
     "output_type": "execute_result"
    }
   ],
   "source": [
    "df_cat_conv.head()"
   ]
  },
  {
   "cell_type": "markdown",
   "metadata": {
    "id": "fLy0RJVMYhz3"
   },
   "source": [
    "> Encoded categorical columns as numerical columns."
   ]
  },
  {
   "cell_type": "code",
   "execution_count": 22,
   "metadata": {
    "colab": {
     "base_uri": "https://localhost:8080/",
     "height": 273
    },
    "executionInfo": {
     "elapsed": 17,
     "status": "ok",
     "timestamp": 1716720249504,
     "user": {
      "displayName": "Aditya Barik",
      "userId": "12620606418240704179"
     },
     "user_tz": -330
    },
    "id": "yl0p38GCHYA4",
    "outputId": "a514cca4-3315-4430-c4dc-f2301043d9b7"
   },
   "outputs": [
    {
     "data": {
      "text/html": [
       "<div>\n",
       "<style scoped>\n",
       "    .dataframe tbody tr th:only-of-type {\n",
       "        vertical-align: middle;\n",
       "    }\n",
       "\n",
       "    .dataframe tbody tr th {\n",
       "        vertical-align: top;\n",
       "    }\n",
       "\n",
       "    .dataframe thead th {\n",
       "        text-align: right;\n",
       "    }\n",
       "</style>\n",
       "<table border=\"1\" class=\"dataframe\">\n",
       "  <thead>\n",
       "    <tr style=\"text-align: right;\">\n",
       "      <th></th>\n",
       "      <th>Gender</th>\n",
       "      <th>Own_car</th>\n",
       "      <th>Own_property</th>\n",
       "      <th>Num_children</th>\n",
       "      <th>Num_family</th>\n",
       "      <th>Account_length</th>\n",
       "      <th>Total_income</th>\n",
       "      <th>Age</th>\n",
       "      <th>Years_employed</th>\n",
       "      <th>Income_type_Commercial associate</th>\n",
       "      <th>...</th>\n",
       "      <th>Occupation_type_Managers</th>\n",
       "      <th>Occupation_type_Medicine staff</th>\n",
       "      <th>Occupation_type_Other</th>\n",
       "      <th>Occupation_type_Private service staff</th>\n",
       "      <th>Occupation_type_Realty agents</th>\n",
       "      <th>Occupation_type_Sales staff</th>\n",
       "      <th>Occupation_type_Secretaries</th>\n",
       "      <th>Occupation_type_Security staff</th>\n",
       "      <th>Occupation_type_Waiters/barmen staff</th>\n",
       "      <th>Target</th>\n",
       "    </tr>\n",
       "  </thead>\n",
       "  <tbody>\n",
       "    <tr>\n",
       "      <th>0</th>\n",
       "      <td>1</td>\n",
       "      <td>1</td>\n",
       "      <td>1</td>\n",
       "      <td>0</td>\n",
       "      <td>2</td>\n",
       "      <td>15</td>\n",
       "      <td>427500.0</td>\n",
       "      <td>32.868574</td>\n",
       "      <td>12.435574</td>\n",
       "      <td>0</td>\n",
       "      <td>...</td>\n",
       "      <td>0</td>\n",
       "      <td>0</td>\n",
       "      <td>1</td>\n",
       "      <td>0</td>\n",
       "      <td>0</td>\n",
       "      <td>0</td>\n",
       "      <td>0</td>\n",
       "      <td>0</td>\n",
       "      <td>0</td>\n",
       "      <td>1</td>\n",
       "    </tr>\n",
       "    <tr>\n",
       "      <th>1</th>\n",
       "      <td>1</td>\n",
       "      <td>1</td>\n",
       "      <td>1</td>\n",
       "      <td>0</td>\n",
       "      <td>2</td>\n",
       "      <td>29</td>\n",
       "      <td>112500.0</td>\n",
       "      <td>58.793815</td>\n",
       "      <td>3.104787</td>\n",
       "      <td>0</td>\n",
       "      <td>...</td>\n",
       "      <td>0</td>\n",
       "      <td>0</td>\n",
       "      <td>0</td>\n",
       "      <td>0</td>\n",
       "      <td>0</td>\n",
       "      <td>0</td>\n",
       "      <td>0</td>\n",
       "      <td>1</td>\n",
       "      <td>0</td>\n",
       "      <td>0</td>\n",
       "    </tr>\n",
       "    <tr>\n",
       "      <th>2</th>\n",
       "      <td>0</td>\n",
       "      <td>0</td>\n",
       "      <td>1</td>\n",
       "      <td>0</td>\n",
       "      <td>1</td>\n",
       "      <td>4</td>\n",
       "      <td>270000.0</td>\n",
       "      <td>52.321403</td>\n",
       "      <td>8.353354</td>\n",
       "      <td>1</td>\n",
       "      <td>...</td>\n",
       "      <td>0</td>\n",
       "      <td>0</td>\n",
       "      <td>0</td>\n",
       "      <td>0</td>\n",
       "      <td>0</td>\n",
       "      <td>1</td>\n",
       "      <td>0</td>\n",
       "      <td>0</td>\n",
       "      <td>0</td>\n",
       "      <td>0</td>\n",
       "    </tr>\n",
       "    <tr>\n",
       "      <th>3</th>\n",
       "      <td>0</td>\n",
       "      <td>0</td>\n",
       "      <td>1</td>\n",
       "      <td>0</td>\n",
       "      <td>1</td>\n",
       "      <td>20</td>\n",
       "      <td>283500.0</td>\n",
       "      <td>61.504343</td>\n",
       "      <td>0.000000</td>\n",
       "      <td>0</td>\n",
       "      <td>...</td>\n",
       "      <td>0</td>\n",
       "      <td>0</td>\n",
       "      <td>1</td>\n",
       "      <td>0</td>\n",
       "      <td>0</td>\n",
       "      <td>0</td>\n",
       "      <td>0</td>\n",
       "      <td>0</td>\n",
       "      <td>0</td>\n",
       "      <td>0</td>\n",
       "    </tr>\n",
       "    <tr>\n",
       "      <th>4</th>\n",
       "      <td>1</td>\n",
       "      <td>1</td>\n",
       "      <td>1</td>\n",
       "      <td>0</td>\n",
       "      <td>2</td>\n",
       "      <td>5</td>\n",
       "      <td>270000.0</td>\n",
       "      <td>46.193967</td>\n",
       "      <td>2.105450</td>\n",
       "      <td>0</td>\n",
       "      <td>...</td>\n",
       "      <td>0</td>\n",
       "      <td>0</td>\n",
       "      <td>0</td>\n",
       "      <td>0</td>\n",
       "      <td>0</td>\n",
       "      <td>0</td>\n",
       "      <td>0</td>\n",
       "      <td>0</td>\n",
       "      <td>0</td>\n",
       "      <td>0</td>\n",
       "    </tr>\n",
       "  </tbody>\n",
       "</table>\n",
       "<p>5 rows × 50 columns</p>\n",
       "</div>"
      ],
      "text/plain": [
       "   Gender  Own_car  Own_property  Num_children  Num_family  Account_length  \\\n",
       "0       1        1             1             0           2              15   \n",
       "1       1        1             1             0           2              29   \n",
       "2       0        0             1             0           1               4   \n",
       "3       0        0             1             0           1              20   \n",
       "4       1        1             1             0           2               5   \n",
       "\n",
       "   Total_income        Age  Years_employed  Income_type_Commercial associate  \\\n",
       "0      427500.0  32.868574       12.435574                                 0   \n",
       "1      112500.0  58.793815        3.104787                                 0   \n",
       "2      270000.0  52.321403        8.353354                                 1   \n",
       "3      283500.0  61.504343        0.000000                                 0   \n",
       "4      270000.0  46.193967        2.105450                                 0   \n",
       "\n",
       "   ...  Occupation_type_Managers  Occupation_type_Medicine staff  \\\n",
       "0  ...                         0                               0   \n",
       "1  ...                         0                               0   \n",
       "2  ...                         0                               0   \n",
       "3  ...                         0                               0   \n",
       "4  ...                         0                               0   \n",
       "\n",
       "   Occupation_type_Other  Occupation_type_Private service staff  \\\n",
       "0                      1                                      0   \n",
       "1                      0                                      0   \n",
       "2                      0                                      0   \n",
       "3                      1                                      0   \n",
       "4                      0                                      0   \n",
       "\n",
       "   Occupation_type_Realty agents  Occupation_type_Sales staff  \\\n",
       "0                              0                            0   \n",
       "1                              0                            0   \n",
       "2                              0                            1   \n",
       "3                              0                            0   \n",
       "4                              0                            0   \n",
       "\n",
       "   Occupation_type_Secretaries  Occupation_type_Security staff  \\\n",
       "0                            0                               0   \n",
       "1                            0                               1   \n",
       "2                            0                               0   \n",
       "3                            0                               0   \n",
       "4                            0                               0   \n",
       "\n",
       "   Occupation_type_Waiters/barmen staff  Target  \n",
       "0                                     0       1  \n",
       "1                                     0       0  \n",
       "2                                     0       0  \n",
       "3                                     0       0  \n",
       "4                                     0       0  \n",
       "\n",
       "[5 rows x 50 columns]"
      ]
     },
     "execution_count": 22,
     "metadata": {},
     "output_type": "execute_result"
    }
   ],
   "source": [
    "df_final = pd.concat([df_num, df_cat_conv, df_res], axis = 1)\n",
    "df_final.head()"
   ]
  },
  {
   "cell_type": "markdown",
   "metadata": {
    "id": "HSRIRyGtYzAn"
   },
   "source": [
    "> Merged numerical columns with converted categorical columns."
   ]
  },
  {
   "cell_type": "code",
   "execution_count": 23,
   "metadata": {
    "executionInfo": {
     "elapsed": 18,
     "status": "ok",
     "timestamp": 1716720249505,
     "user": {
      "displayName": "Aditya Barik",
      "userId": "12620606418240704179"
     },
     "user_tz": -330
    },
    "id": "5Y6E0_6eZQ0e"
   },
   "outputs": [],
   "source": [
    "scaler = StandardScaler()\n",
    "X = scaler.fit_transform(df_final.iloc[:,:-1])\n",
    "Y = df_final.iloc[:,-1].values"
   ]
  },
  {
   "cell_type": "code",
   "execution_count": 24,
   "metadata": {
    "colab": {
     "base_uri": "https://localhost:8080/",
     "height": 273
    },
    "executionInfo": {
     "elapsed": 10,
     "status": "ok",
     "timestamp": 1716721763617,
     "user": {
      "displayName": "Aditya Barik",
      "userId": "12620606418240704179"
     },
     "user_tz": -330
    },
    "id": "_YB2yH6rlebA",
    "outputId": "39480997-de25-46ba-f46e-9baa2045026f"
   },
   "outputs": [
    {
     "data": {
      "text/html": [
       "<div>\n",
       "<style scoped>\n",
       "    .dataframe tbody tr th:only-of-type {\n",
       "        vertical-align: middle;\n",
       "    }\n",
       "\n",
       "    .dataframe tbody tr th {\n",
       "        vertical-align: top;\n",
       "    }\n",
       "\n",
       "    .dataframe thead th {\n",
       "        text-align: right;\n",
       "    }\n",
       "</style>\n",
       "<table border=\"1\" class=\"dataframe\">\n",
       "  <thead>\n",
       "    <tr style=\"text-align: right;\">\n",
       "      <th></th>\n",
       "      <th>Gender</th>\n",
       "      <th>Own_car</th>\n",
       "      <th>Own_property</th>\n",
       "      <th>Num_children</th>\n",
       "      <th>Num_family</th>\n",
       "      <th>Account_length</th>\n",
       "      <th>Total_income</th>\n",
       "      <th>Age</th>\n",
       "      <th>Years_employed</th>\n",
       "      <th>Income_type_Commercial associate</th>\n",
       "      <th>...</th>\n",
       "      <th>Occupation_type_Low-skill Laborers</th>\n",
       "      <th>Occupation_type_Managers</th>\n",
       "      <th>Occupation_type_Medicine staff</th>\n",
       "      <th>Occupation_type_Other</th>\n",
       "      <th>Occupation_type_Private service staff</th>\n",
       "      <th>Occupation_type_Realty agents</th>\n",
       "      <th>Occupation_type_Sales staff</th>\n",
       "      <th>Occupation_type_Secretaries</th>\n",
       "      <th>Occupation_type_Security staff</th>\n",
       "      <th>Occupation_type_Waiters/barmen staff</th>\n",
       "    </tr>\n",
       "  </thead>\n",
       "  <tbody>\n",
       "    <tr>\n",
       "      <th>0</th>\n",
       "      <td>1.366527</td>\n",
       "      <td>1.311338</td>\n",
       "      <td>0.699364</td>\n",
       "      <td>-0.551258</td>\n",
       "      <td>-0.195755</td>\n",
       "      <td>-0.737064</td>\n",
       "      <td>2.480773</td>\n",
       "      <td>-0.938956</td>\n",
       "      <td>1.067634</td>\n",
       "      <td>-0.559070</td>\n",
       "      <td>...</td>\n",
       "      <td>-0.074087</td>\n",
       "      <td>-0.295972</td>\n",
       "      <td>-0.175779</td>\n",
       "      <td>1.497604</td>\n",
       "      <td>-0.094535</td>\n",
       "      <td>-0.040629</td>\n",
       "      <td>-0.331059</td>\n",
       "      <td>-0.068996</td>\n",
       "      <td>-0.138216</td>\n",
       "      <td>-0.064319</td>\n",
       "    </tr>\n",
       "    <tr>\n",
       "      <th>1</th>\n",
       "      <td>1.366527</td>\n",
       "      <td>1.311338</td>\n",
       "      <td>0.699364</td>\n",
       "      <td>-0.551258</td>\n",
       "      <td>-0.195755</td>\n",
       "      <td>0.103918</td>\n",
       "      <td>-0.692321</td>\n",
       "      <td>1.291140</td>\n",
       "      <td>-0.403655</td>\n",
       "      <td>-0.559070</td>\n",
       "      <td>...</td>\n",
       "      <td>-0.074087</td>\n",
       "      <td>-0.295972</td>\n",
       "      <td>-0.175779</td>\n",
       "      <td>-0.667733</td>\n",
       "      <td>-0.094535</td>\n",
       "      <td>-0.040629</td>\n",
       "      <td>-0.331059</td>\n",
       "      <td>-0.068996</td>\n",
       "      <td>7.235064</td>\n",
       "      <td>-0.064319</td>\n",
       "    </tr>\n",
       "    <tr>\n",
       "      <th>2</th>\n",
       "      <td>-0.731782</td>\n",
       "      <td>-0.762580</td>\n",
       "      <td>0.699364</td>\n",
       "      <td>-0.551258</td>\n",
       "      <td>-1.267716</td>\n",
       "      <td>-1.397836</td>\n",
       "      <td>0.894226</td>\n",
       "      <td>0.734382</td>\n",
       "      <td>0.423945</td>\n",
       "      <td>1.788685</td>\n",
       "      <td>...</td>\n",
       "      <td>-0.074087</td>\n",
       "      <td>-0.295972</td>\n",
       "      <td>-0.175779</td>\n",
       "      <td>-0.667733</td>\n",
       "      <td>-0.094535</td>\n",
       "      <td>-0.040629</td>\n",
       "      <td>3.020610</td>\n",
       "      <td>-0.068996</td>\n",
       "      <td>-0.138216</td>\n",
       "      <td>-0.064319</td>\n",
       "    </tr>\n",
       "    <tr>\n",
       "      <th>3</th>\n",
       "      <td>-0.731782</td>\n",
       "      <td>-0.762580</td>\n",
       "      <td>0.699364</td>\n",
       "      <td>-0.551258</td>\n",
       "      <td>-1.267716</td>\n",
       "      <td>-0.436714</td>\n",
       "      <td>1.030216</td>\n",
       "      <td>1.524300</td>\n",
       "      <td>-0.893221</td>\n",
       "      <td>-0.559070</td>\n",
       "      <td>...</td>\n",
       "      <td>-0.074087</td>\n",
       "      <td>-0.295972</td>\n",
       "      <td>-0.175779</td>\n",
       "      <td>1.497604</td>\n",
       "      <td>-0.094535</td>\n",
       "      <td>-0.040629</td>\n",
       "      <td>-0.331059</td>\n",
       "      <td>-0.068996</td>\n",
       "      <td>-0.138216</td>\n",
       "      <td>-0.064319</td>\n",
       "    </tr>\n",
       "    <tr>\n",
       "      <th>4</th>\n",
       "      <td>1.366527</td>\n",
       "      <td>1.311338</td>\n",
       "      <td>0.699364</td>\n",
       "      <td>-0.551258</td>\n",
       "      <td>-0.195755</td>\n",
       "      <td>-1.337766</td>\n",
       "      <td>0.894226</td>\n",
       "      <td>0.207298</td>\n",
       "      <td>-0.561231</td>\n",
       "      <td>-0.559070</td>\n",
       "      <td>...</td>\n",
       "      <td>-0.074087</td>\n",
       "      <td>-0.295972</td>\n",
       "      <td>-0.175779</td>\n",
       "      <td>-0.667733</td>\n",
       "      <td>-0.094535</td>\n",
       "      <td>-0.040629</td>\n",
       "      <td>-0.331059</td>\n",
       "      <td>-0.068996</td>\n",
       "      <td>-0.138216</td>\n",
       "      <td>-0.064319</td>\n",
       "    </tr>\n",
       "  </tbody>\n",
       "</table>\n",
       "<p>5 rows × 49 columns</p>\n",
       "</div>"
      ],
      "text/plain": [
       "     Gender   Own_car  Own_property  Num_children  Num_family  Account_length  \\\n",
       "0  1.366527  1.311338      0.699364     -0.551258   -0.195755       -0.737064   \n",
       "1  1.366527  1.311338      0.699364     -0.551258   -0.195755        0.103918   \n",
       "2 -0.731782 -0.762580      0.699364     -0.551258   -1.267716       -1.397836   \n",
       "3 -0.731782 -0.762580      0.699364     -0.551258   -1.267716       -0.436714   \n",
       "4  1.366527  1.311338      0.699364     -0.551258   -0.195755       -1.337766   \n",
       "\n",
       "   Total_income       Age  Years_employed  Income_type_Commercial associate  \\\n",
       "0      2.480773 -0.938956        1.067634                         -0.559070   \n",
       "1     -0.692321  1.291140       -0.403655                         -0.559070   \n",
       "2      0.894226  0.734382        0.423945                          1.788685   \n",
       "3      1.030216  1.524300       -0.893221                         -0.559070   \n",
       "4      0.894226  0.207298       -0.561231                         -0.559070   \n",
       "\n",
       "   ...  Occupation_type_Low-skill Laborers  Occupation_type_Managers  \\\n",
       "0  ...                           -0.074087                 -0.295972   \n",
       "1  ...                           -0.074087                 -0.295972   \n",
       "2  ...                           -0.074087                 -0.295972   \n",
       "3  ...                           -0.074087                 -0.295972   \n",
       "4  ...                           -0.074087                 -0.295972   \n",
       "\n",
       "   Occupation_type_Medicine staff  Occupation_type_Other  \\\n",
       "0                       -0.175779               1.497604   \n",
       "1                       -0.175779              -0.667733   \n",
       "2                       -0.175779              -0.667733   \n",
       "3                       -0.175779               1.497604   \n",
       "4                       -0.175779              -0.667733   \n",
       "\n",
       "   Occupation_type_Private service staff  Occupation_type_Realty agents  \\\n",
       "0                              -0.094535                      -0.040629   \n",
       "1                              -0.094535                      -0.040629   \n",
       "2                              -0.094535                      -0.040629   \n",
       "3                              -0.094535                      -0.040629   \n",
       "4                              -0.094535                      -0.040629   \n",
       "\n",
       "   Occupation_type_Sales staff  Occupation_type_Secretaries  \\\n",
       "0                    -0.331059                    -0.068996   \n",
       "1                    -0.331059                    -0.068996   \n",
       "2                     3.020610                    -0.068996   \n",
       "3                    -0.331059                    -0.068996   \n",
       "4                    -0.331059                    -0.068996   \n",
       "\n",
       "   Occupation_type_Security staff  Occupation_type_Waiters/barmen staff  \n",
       "0                       -0.138216                             -0.064319  \n",
       "1                        7.235064                             -0.064319  \n",
       "2                       -0.138216                             -0.064319  \n",
       "3                       -0.138216                             -0.064319  \n",
       "4                       -0.138216                             -0.064319  \n",
       "\n",
       "[5 rows x 49 columns]"
      ]
     },
     "execution_count": 24,
     "metadata": {},
     "output_type": "execute_result"
    }
   ],
   "source": [
    "df_scaled = pd.DataFrame(X, columns = list(df_final.columns)[:-1])\n",
    "df_scaled.head()"
   ]
  },
  {
   "cell_type": "code",
   "execution_count": 25,
   "metadata": {
    "executionInfo": {
     "elapsed": 5,
     "status": "ok",
     "timestamp": 1716722008460,
     "user": {
      "displayName": "Aditya Barik",
      "userId": "12620606418240704179"
     },
     "user_tz": -330
    },
    "id": "6j0ySC-UmM-Q"
   },
   "outputs": [],
   "source": [
    "# df_final.mean()"
   ]
  },
  {
   "cell_type": "code",
   "execution_count": 26,
   "metadata": {
    "executionInfo": {
     "elapsed": 4,
     "status": "ok",
     "timestamp": 1716722011815,
     "user": {
      "displayName": "Aditya Barik",
      "userId": "12620606418240704179"
     },
     "user_tz": -330
    },
    "id": "owCJgU15mHpE"
   },
   "outputs": [],
   "source": [
    "# df_scaled.mean()"
   ]
  },
  {
   "cell_type": "markdown",
   "metadata": {
    "id": "SIaoF1rOLOSn"
   },
   "source": [
    "# Data Modelling"
   ]
  },
  {
   "cell_type": "code",
   "execution_count": 27,
   "metadata": {
    "executionInfo": {
     "elapsed": 750,
     "status": "ok",
     "timestamp": 1716722492016,
     "user": {
      "displayName": "Aditya Barik",
      "userId": "12620606418240704179"
     },
     "user_tz": -330
    },
    "id": "14Gzq4a7HYBF"
   },
   "outputs": [],
   "source": [
    "def fit_and_test_model(\n",
    "    predictors_array,\n",
    "    response_array,\n",
    "    clf_model_name,\n",
    "    test_percentage,\n",
    "    imbalanced_class,\n",
    "    imb_model_name\n",
    "):\n",
    "    X, Y = predictors_array, response_array\n",
    "\n",
    "    clf_model_names = [\n",
    "        \"DecisionTreeClassifier\",\n",
    "        \"LogisticRegression\",\n",
    "        \"RandomForestClassifier\"\n",
    "    ]\n",
    "    imb_model_names = [\n",
    "        \"RandomOverSampler\",\n",
    "        \"RandomUnderSampler\",\n",
    "    ]\n",
    "    if clf_model_name in clf_model_names:\n",
    "        model = eval(clf_model_name + \"()\")\n",
    "        if imbalanced_class:\n",
    "            if imb_model_name in imb_model_names:\n",
    "                imb_ = eval(imb_model_name + \"()\")\n",
    "\n",
    "                X_New, Y_New = imb_.fit_resample(X, Y)\n",
    "                X_Train, X_Test, Y_Train, Y_Test = train_test_split(X_New, Y_New, test_size = test_percentage)\n",
    "\n",
    "                model.fit(X_Train, Y_Train)\n",
    "                Y_Pred = model.predict(X_Test)\n",
    "\n",
    "                plt.figure(figsize = [8, 6])\n",
    "                sns.heatmap(pd.DataFrame(confusion_matrix(Y_Test , Y_Pred)), annot = True, fmt = \"d\", cmap = \"Blues\")\n",
    "                plt.xlabel(\"Predicted Class\")\n",
    "                plt.ylabel(\"Actual Class\")\n",
    "                plt.title(\"Confusion Matrix\")\n",
    "                plt.show()\n",
    "\n",
    "                Area_Under_ROC_Curve = roc_auc_score(Y_Test , Y_Pred)\n",
    "\n",
    "                fpr, tpr, _ = roc_curve(Y_Test , Y_Pred)\n",
    "                plt.figure(figsize = [8, 6])\n",
    "                plt.plot(fpr, tpr, \"k-\", label = f\"AUC : {roc_auc_score(Y_Test , Y_Pred)}\")\n",
    "                plt.plot([0, 1], [0, 1], \"k--\")\n",
    "                plt.xlim([-0.05, 1.05])\n",
    "                plt.ylim([-0.05, 1.05])\n",
    "                plt.xlabel(\"False Positive Rate\")\n",
    "                plt.ylabel(\"True Positive Rate\")\n",
    "                plt.title(\"Receiver Operating Characteristic (ROC) Curve\")\n",
    "                plt.legend(loc = \"lower right\")\n",
    "                plt.show()\n",
    "\n",
    "                return model, imb_, Area_Under_ROC_Curve\n",
    "        else:\n",
    "            X_Train, X_Test, Y_Train, Y_Test = train_test_split(X, Y, test_size = test_percentage)\n",
    "\n",
    "            model.fit(X_Train, Y_Train)\n",
    "            Y_Pred = model.predict(X_Test)\n",
    "\n",
    "            plt.figure(figsize = [8, 6])\n",
    "            sns.heatmap(pd.DataFrame(confusion_matrix(Y_Test , Y_Pred)), annot = True, fmt = \"d\", cmap = \"Blues\")\n",
    "            plt.xlabel(\"Predicted Class\")\n",
    "            plt.ylabel(\"Actual Class\")\n",
    "            plt.title(\"Confusion Matrix\")\n",
    "            plt.show()\n",
    "\n",
    "            Area_Under_ROC_Curve = roc_auc_score(Y_Test , Y_Pred)\n",
    "\n",
    "            fpr, tpr, _ = roc_curve(Y_Test , Y_Pred)\n",
    "            plt.figure(figsize = [8, 6])\n",
    "            plt.plot(fpr, tpr, \"k-\", label = f\"AUC : {roc_auc_score(Y_Test , Y_Pred)}\")\n",
    "            plt.plot([0, 1], [0, 1], \"k--\")\n",
    "            plt.xlim([-0.05, 1.05])\n",
    "            plt.ylim([-0.05, 1.05])\n",
    "            plt.xlabel(\"False Positive Rate\")\n",
    "            plt.ylabel(\"True Positive Rate\")\n",
    "            plt.title(\"Receiver Operating Characteristic (ROC) Curve\")\n",
    "            plt.legend(loc = \"lower right\")\n",
    "            plt.show()\n",
    "\n",
    "            return model, None, Area_Under_ROC_Curve\n",
    "    else:\n",
    "        raise ValueError(\"Please Enter a Valid Model Name.\")"
   ]
  },
  {
   "cell_type": "code",
   "execution_count": 28,
   "metadata": {
    "colab": {
     "base_uri": "https://localhost:8080/",
     "height": 1000
    },
    "executionInfo": {
     "elapsed": 7986,
     "status": "ok",
     "timestamp": 1716722968421,
     "user": {
      "displayName": "Aditya Barik",
      "userId": "12620606418240704179"
     },
     "user_tz": -330
    },
    "id": "on9y6dWNHYBF",
    "outputId": "17416db7-bb35-4088-924c-138624aeb938"
   },
   "outputs": [
    {
     "name": "stdout",
     "output_type": "stream",
     "text": [
      "\n",
      "\n",
      "\n",
      "Classification Model : LogisticRegression\n",
      "Imbalanced Classification Sampling Technique : RandomUnderSampler\n",
      "\n",
      "\n"
     ]
    },
    {
     "data": {
      "image/png": "[encoded data removed]",
      "text/plain": [
       "<Figure size 576x432 with 2 Axes>"
      ]
     },
     "metadata": {
      "needs_background": "light"
     },
     "output_type": "display_data"
    },
    {
     "data": {
      "image/png": "[encoded data removed]",
      "text/plain": [
       "<Figure size 576x432 with 1 Axes>"
      ]
     },
     "metadata": {
      "needs_background": "light"
     },
     "output_type": "display_data"
    },
    {
     "name": "stdout",
     "output_type": "stream",
     "text": [
      "\n",
      "\n",
      "\n",
      "Classification Model : LogisticRegression\n",
      "Imbalanced Classification Sampling Technique : RandomOverSampler\n",
      "\n",
      "\n"
     ]
    },
    {
     "data": {
      "image/png": "[encoded data removed]",
      "text/plain": [
       "<Figure size 576x432 with 2 Axes>"
      ]
     },
     "metadata": {
      "needs_background": "light"
     },
     "output_type": "display_data"
    },
    {
     "data": {
      "image/png": "[encoded data removed]",
      "text/plain": [
       "<Figure size 576x432 with 1 Axes>"
      ]
     },
     "metadata": {
      "needs_background": "light"
     },
     "output_type": "display_data"
    },
    {
     "name": "stdout",
     "output_type": "stream",
     "text": [
      "\n",
      "\n",
      "\n",
      "Classification Model : RandomForestClassifier\n",
      "Imbalanced Classification Sampling Technique : RandomUnderSampler\n",
      "\n",
      "\n"
     ]
    },
    {
     "data": {
      "image/png": "[encoded data removed]",
      "text/plain": [
       "<Figure size 576x432 with 2 Axes>"
      ]
     },
     "metadata": {
      "needs_background": "light"
     },
     "output_type": "display_data"
    },
    {
     "data": {
      "image/png": "[encoded data removed]",
      "text/plain": [
       "<Figure size 576x432 with 1 Axes>"
      ]
     },
     "metadata": {
      "needs_background": "light"
     },
     "output_type": "display_data"
    },
    {
     "name": "stdout",
     "output_type": "stream",
     "text": [
      "\n",
      "\n",
      "\n",
      "Classification Model : RandomForestClassifier\n",
      "Imbalanced Classification Sampling Technique : RandomOverSampler\n",
      "\n",
      "\n"
     ]
    },
    {
     "data": {
      "image/png": "[encoded data removed]",
      "text/plain": [
       "<Figure size 576x432 with 2 Axes>"
      ]
     },
     "metadata": {
      "needs_background": "light"
     },
     "output_type": "display_data"
    },
    {
     "data": {
      "image/png": "[encoded data removed]",
      "text/plain": [
       "<Figure size 576x432 with 1 Axes>"
      ]
     },
     "metadata": {
      "needs_background": "light"
     },
     "output_type": "display_data"
    },
    {
     "name": "stdout",
     "output_type": "stream",
     "text": [
      "\n",
      "\n",
      "\n",
      "Classification Model : DecisionTreeClassifier\n",
      "Imbalanced Classification Sampling Technique : RandomUnderSampler\n",
      "\n",
      "\n"
     ]
    },
    {
     "data": {
      "image/png": "[encoded data removed]",
      "text/plain": [
       "<Figure size 576x432 with 2 Axes>"
      ]
     },
     "metadata": {
      "needs_background": "light"
     },
     "output_type": "display_data"
    },
    {
     "data": {
      "image/png": "[encoded data removed]",
      "text/plain": [
       "<Figure size 576x432 with 1 Axes>"
      ]
     },
     "metadata": {
      "needs_background": "light"
     },
     "output_type": "display_data"
    },
    {
     "name": "stdout",
     "output_type": "stream",
     "text": [
      "\n",
      "\n",
      "\n",
      "Classification Model : DecisionTreeClassifier\n",
      "Imbalanced Classification Sampling Technique : RandomOverSampler\n",
      "\n",
      "\n"
     ]
    },
    {
     "data": {
      "image/png": "[encoded data removed]",
      "text/plain": [
       "<Figure size 576x432 with 2 Axes>"
      ]
     },
     "metadata": {
      "needs_background": "light"
     },
     "output_type": "display_data"
    },
    {
     "data": {
      "image/png": "[encoded data removed]",
      "text/plain": [
       "<Figure size 576x432 with 1 Axes>"
      ]
     },
     "metadata": {
      "needs_background": "light"
     },
     "output_type": "display_data"
    }
   ],
   "source": [
    "clf_model_names = [\"LogisticRegression\", \"RandomForestClassifier\", \"DecisionTreeClassifier\"]\n",
    "imb_model_names = [\"RandomUnderSampler\", \"RandomOverSampler\"]\n",
    "final_clf_model, final_imb_model, final_auc_score = None, None, 0\n",
    "for clf_model_name in clf_model_names:\n",
    "    for imb_model_name in imb_model_names:\n",
    "        print(\"\\n\\n\")\n",
    "        print(f\"Classification Model : {clf_model_name}\")\n",
    "        print(f\"Imbalanced Classification Sampling Technique : {imb_model_name}\")\n",
    "        print(\"\\n\")\n",
    "        clf_model_, imb_model_, auc_score_ = fit_and_test_model(\n",
    "            predictors_array = X,\n",
    "            response_array = Y,\n",
    "            clf_model_name = clf_model_name,\n",
    "            test_percentage = 0.25,\n",
    "            imbalanced_class = True,\n",
    "\n",
    "\n",
    "            imb_model_name  = imb_model_name\n",
    "        )\n",
    "        if auc_score_ > final_auc_score:\n",
    "            final_clf_model, final_imb_model, final_auc_score = clf_model_, imb_model_, auc_score_"
   ]
  },
  {
   "cell_type": "markdown",
   "metadata": {
    "id": "2fnTk1WzgpOj"
   },
   "source": [
    "# Best Model Result"
   ]
  },
  {
   "cell_type": "code",
   "execution_count": 29,
   "metadata": {
    "colab": {
     "base_uri": "https://localhost:8080/"
    },
    "executionInfo": {
     "elapsed": 542,
     "status": "ok",
     "timestamp": 1716722986635,
     "user": {
      "displayName": "Aditya Barik",
      "userId": "12620606418240704179"
     },
     "user_tz": -330
    },
    "id": "gXY11U2Bgusg",
    "outputId": "ca1f45e2-d0b1-4c9e-a495-47277cd71c96"
   },
   "outputs": [
    {
     "name": "stdout",
     "output_type": "stream",
     "text": [
      "Best Classification Model : RandomForestClassifier()\n",
      "Best Imbalanced Data Sampling Technique : RandomOverSampler()\n",
      "Best AUC Score : 0.9851387621462527\n"
     ]
    }
   ],
   "source": [
    "print(f\"Best Classification Model : {final_clf_model}\")\n",
    "print(f\"Best Imbalanced Data Sampling Technique : {final_imb_model}\")\n",
    "print(f\"Best AUC Score : {final_auc_score}\")"
   ]
  },
  {
   "cell_type": "code",
   "execution_count": 30,
   "metadata": {
    "executionInfo": {
     "elapsed": 2791,
     "status": "ok",
     "timestamp": 1716723051305,
     "user": {
      "displayName": "Aditya Barik",
      "userId": "12620606418240704179"
     },
     "user_tz": -330
    },
    "id": "JfExmXA1g9QD"
   },
   "outputs": [],
   "source": [
    "X_Final, Y_Final = final_imb_model.fit_resample(X, Y)\n",
    "X_Train, X_Test, Y_Train, Y_Test = train_test_split(X_Final, Y_Final, test_size = 0.25)\n",
    "final_clf_model.fit(X_Train, Y_Train)\n",
    "Y_Pred = final_clf_model.predict(X_Test)"
   ]
  },
  {
   "cell_type": "code",
   "execution_count": 31,
   "metadata": {
    "colab": {
     "base_uri": "https://localhost:8080/",
     "height": 571
    },
    "executionInfo": {
     "elapsed": 23,
     "status": "ok",
     "timestamp": 1716723051305,
     "user": {
      "displayName": "Aditya Barik",
      "userId": "12620606418240704179"
     },
     "user_tz": -330
    },
    "id": "LhD0bPJjhjAP",
    "outputId": "6b79f55f-55cf-477d-b453-1d03f1cde39b"
   },
   "outputs": [
    {
     "data": {
      "image/png": "[encoded data removed]",
      "text/plain": [
       "<Figure size 576x432 with 1 Axes>"
      ]
     },
     "metadata": {
      "needs_background": "light"
     },
     "output_type": "display_data"
    }
   ],
   "source": [
    "fpr, tpr, _ = roc_curve(Y_Test , Y_Pred)\n",
    "plt.figure(figsize = [8, 6])\n",
    "plt.plot(fpr, tpr, \"k-\", label = f\"AUC : {roc_auc_score(Y_Test , Y_Pred)}\")\n",
    "plt.plot([0, 1], [0, 1], \"k--\")\n",
    "plt.xlim([-0.05, 1.05])\n",
    "plt.ylim([-0.05, 1.05])\n",
    "plt.xlabel(\"False Positive Rate\", size = 14)\n",
    "plt.ylabel(\"True Positive Rate\", size = 14)\n",
    "plt.title(\"Receiver Operating Characteristic (ROC) Curve\", size = 15)\n",
    "plt.legend(loc = \"lower right\")\n",
    "plt.show()"
   ]
  },
  {
   "cell_type": "code",
   "execution_count": 32,
   "metadata": {
    "colab": {
     "base_uri": "https://localhost:8080/",
     "height": 570
    },
    "executionInfo": {
     "elapsed": 880,
     "status": "ok",
     "timestamp": 1716723052165,
     "user": {
      "displayName": "Aditya Barik",
      "userId": "12620606418240704179"
     },
     "user_tz": -330
    },
    "id": "V2ik2uvtho7z",
    "outputId": "a4676ce0-b433-459b-83c8-24b12e167808"
   },
   "outputs": [
    {
     "data": {
      "image/png": "[encoded data removed]",
      "text/plain": [
       "<Figure size 576x432 with 2 Axes>"
      ]
     },
     "metadata": {
      "needs_background": "light"
     },
     "output_type": "display_data"
    }
   ],
   "source": [
    "plt.figure(figsize = [8, 6])\n",
    "sns.heatmap(pd.DataFrame(confusion_matrix(Y_Test , Y_Pred)), annot = True, fmt = \"d\", cmap = \"Blues\")\n",
    "plt.xlabel(\"Predicted Class\", size = 12)\n",
    "plt.ylabel(\"Actual Class\", size = 12)\n",
    "plt.title(\"Confusion Matrix\", size = 15)\n",
    "plt.show()"
   ]
  },
  {
   "cell_type": "code",
   "execution_count": 33,
   "metadata": {
    "colab": {
     "base_uri": "https://localhost:8080/"
    },
    "executionInfo": {
     "elapsed": 540,
     "status": "ok",
     "timestamp": 1716723681920,
     "user": {
      "displayName": "Aditya Barik",
      "userId": "12620606418240704179"
     },
     "user_tz": -330
    },
    "id": "LTFl15wRhtNb",
    "outputId": "548676ba-9245-4a1f-93ce-36c4be83890f"
   },
   "outputs": [
    {
     "name": "stdout",
     "output_type": "stream",
     "text": [
      "For the Final Model, \n",
      "\n",
      " Accuracy   :  0.9869451697127938\n",
      " Precision  :  0.9796305068687826\n",
      " Recall     :  0.9942307692307693\n",
      " F1 Score   :  0.9868766404199475\n",
      "\n",
      "and a detail Classification Report is given below: \n",
      "\n",
      "                  precision    recall  f1-score   support\n",
      "\n",
      "Not Eligible (0)     0.9943    0.9798    0.9870      2133\n",
      "    Eligible (1)     0.9796    0.9942    0.9869      2080\n",
      "\n",
      "        accuracy                         0.9869      4213\n",
      "       macro avg     0.9870    0.9870    0.9869      4213\n",
      "    weighted avg     0.9871    0.9869    0.9869      4213\n",
      "\n"
     ]
    }
   ],
   "source": [
    "print(\n",
    "\"For the Final Model, \\n\\n\"\n",
    "f\" Accuracy   :  {accuracy_score(Y_Test , Y_Pred)}\\n\"\n",
    "f\" Precision  :  {precision_score(Y_Test , Y_Pred)}\\n\"\n",
    "f\" Recall     :  {recall_score(Y_Test , Y_Pred)}\\n\"\n",
    "f\" F1 Score   :  {f1_score(Y_Test , Y_Pred)}\\n\\n\"\n",
    "\"and a detail Classification Report is given below: \\n\\n\"\n",
    "f\"{classification_report(Y_Test, Y_Pred, target_names = ['Not Eligible (0)', 'Eligible (1)'], digits = 4)}\"\n",
    ")"
   ]
  },
  {
   "cell_type": "code",
   "execution_count": null,
   "metadata": {},
   "outputs": [],
   "source": []
  },
  {
   "cell_type": "code",
   "execution_count": null,
   "metadata": {},
   "outputs": [],
   "source": []
  }
 ],
 "metadata": {
  "colab": {
   "provenance": []
  },
  "kaggle": {
   "accelerator": "none",
   "dataSources": [
    {
     "datasetId": 5035256,
     "sourceId": 8449565,
     "sourceType": "datasetVersion"
    }
   ],
   "dockerImageVersionId": 30698,
   "isGpuEnabled": false,
   "isInternetEnabled": true,
   "language": "python",
   "sourceType": "notebook"
  },
  "kernelspec": {
   "display_name": "Python 3 (ipykernel)",
   "language": "python",
   "name": "python3"
  },
  "language_info": {
   "codemirror_mode": {
    "name": "ipython",
    "version": 3
   },
   "file_extension": ".py",
   "mimetype": "text/x-python",
   "name": "python",
   "nbconvert_exporter": "python",
   "pygments_lexer": "ipython3",
   "version": "3.9.19"
  }
 },
 "nbformat": 4,
 "nbformat_minor": 4
}
